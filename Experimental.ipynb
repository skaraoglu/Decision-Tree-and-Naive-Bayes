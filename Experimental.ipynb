{
 "cells": [
  {
   "cell_type": "markdown",
   "metadata": {},
   "source": [
    "# Naive Bayes and Decision Tree Algorithms Comparison\n",
    "\n",
    "In this work, we provide two classification functions; Naive Bayes Classifier and Decision Tree Classifier. These methods are employed in data science studies to perform classification tasks on the given data. Even though both models are utilized for the same task, they differ from each other by the techniques that they are using and the mathematical background. By using these functions, the goal is to do a classification on a dataset and train a model that can suggest how the datapoints can be labeled with the most accurate way."
   ]
  },
  {
   "cell_type": "markdown",
   "metadata": {},
   "source": [
    "## Libraries\n",
    "\n",
    "Numpy library is utilized to calculate the statistics. Pandas library is utilized to handle the datasets to map the features and targets in dataframe structure. Matplotlib and Seaborn libraries provide graphical representations presented in this work. The sklearn library is one of the main libraries employed in the data science area, here the helping functions classification_report and accuracy_score are used to gain information about model accuracy, train_test_split is utilized to split the dataset into training and test sets, LabelEncoder encodes target labels with value between 0 and n_classes-1. And counter function is the dictionary subclass used for counting the objects that are hashable."
   ]
  },
  {
   "cell_type": "code",
   "execution_count": 1,
   "metadata": {},
   "outputs": [],
   "source": [
    "import numpy as np\n",
    "import pandas as pd\n",
    "import matplotlib.pyplot as plt\n",
    "import seaborn as sns\n",
    "from sklearn.metrics import classification_report\n",
    "from sklearn.metrics import accuracy_score\n",
    "from sklearn.model_selection import train_test_split\n",
    "from sklearn.preprocessing import LabelEncoder\n",
    "from collections import Counter\n",
    "sns.set(style=\"whitegrid\")"
   ]
  },
  {
   "cell_type": "markdown",
   "metadata": {},
   "source": [
    "## Naive Bayes Classifier\n",
    "\n",
    "Here in this function, the algorithm for the Naive Bayes Classifier is presented.\n",
    "- prior function calculates prior probabilities P(y)\n",
    "- stats function calculates mean ($\\mu$) and varience ($\\sigma$).\n",
    "- density function calculates the probability from the Gaussian Distribution. $f(x) = \\frac{1}{\\sigma\\sqrt{2\\pi}}e^{-\\frac{1}{2}(\\frac{x - \\mu}{\\sigma})^2}$\n",
    "- posterior function calculates the posterior probability for each class and returns the class with the highest posterior probabilty.\n",
    "- fit function trains the model on the given dataset.\n",
    "- predict function returns the predictions for the given data."
   ]
  },
  {
   "cell_type": "code",
   "execution_count": 2,
   "metadata": {},
   "outputs": [],
   "source": [
    "#Naive Bayes Classifier Class\n",
    "class NaiveBayes:\n",
    "    \n",
    "    def prior(self, X, y):\n",
    "        # calculate prior probability P(y)\n",
    "        self.prior = (X.groupby(y).apply(lambda x: len(x)) / self.rows).to_numpy()\n",
    "        return self.prior\n",
    "    \n",
    "    def stats(self, X, y):\n",
    "        #calculate mean, variance for each column and convert to numpy array\n",
    "        self.mu = X.groupby(y).apply(np.mean).to_numpy()\n",
    "        self.sigma = X.groupby(y).apply(np.var).to_numpy()              \n",
    "        return self.mu, self.sigma\n",
    "    \n",
    "    def density(self, class_idx, x):     \n",
    "        #calculate probability from gaussian density function (normally distributed)\n",
    "        mu = self.mu[class_idx]\n",
    "        sigma = self.sigma[class_idx]\n",
    "        n = np.exp((-1/2)*((x-mu)**2) / (2 * sigma))\n",
    "        d = np.sqrt(2 * np.pi * sigma)\n",
    "        p = n / d\n",
    "        return p\n",
    "    \n",
    "    def posterior(self, x):\n",
    "        posteriors = []\n",
    "        # calculate posterior probability for each class\n",
    "        for i in range(self.count):\n",
    "            prior = np.log(self.prior[i]) ## use the log to make it more numerically stable\n",
    "            conditional = np.sum(np.log(self.density(i, x))) # use the log to make it more numerically stable\n",
    "            posterior = prior + conditional\n",
    "            posteriors.append(posterior)\n",
    "        # return class with highest posterior probability\n",
    "        return self.classes[np.argmax(posteriors)]     \n",
    "\n",
    "    def fit(self, X, y):\n",
    "        self.classes = np.unique(y)\n",
    "        self.count = len(self.classes)\n",
    "        self.feature_nums = X.shape[1]\n",
    "        self.rows = X.shape[0]\n",
    "        \n",
    "        self.stats(X, y)\n",
    "        self.prior(X, y)\n",
    "        \n",
    "    def predict(self, X):\n",
    "        preds = [self.posterior(f) for f in X.to_numpy()]\n",
    "        return preds"
   ]
  },
  {
   "cell_type": "markdown",
   "metadata": {},
   "source": [
    "## Decision Tree Classifier\n",
    "\n",
    "There are two classes used in this Decision Tree classifier function. First class is to create the Node instances. Here in this function the node is checked for it's features, threshold, value, left and right values and provides information about if the tree keeps growing or not (is it a node or a leaf).\n",
    "\n",
    "Decision Tree class handles the functions that are employed in the decision tree. There are three parameters; min_sample_split, max_depth and n_feats. These parameters are to fine tune the algorithm. fit and predict functions work the same way as Naive Bayes' fit and predict functions. grow function is a helping function that runs recursively until it reaches to leaves and this function constructs the tree (or rather grow the tree from its roots). Gini index is the function picked for this Decision tree and \\_best_criteria function does the calculations for the best split possible. Split function does the splitting and traverse functions returns the information about the tree."
   ]
  },
  {
   "cell_type": "code",
   "execution_count": 3,
   "metadata": {},
   "outputs": [],
   "source": [
    "# Defining node for the tree\n",
    "class Node:\n",
    "    def __init__(self, feature=None, threshold=None, left=None, right=None, *, value=None):\n",
    "        self.feature = feature\n",
    "        self.threshold = threshold\n",
    "        self.value = value\n",
    "        self.left = left\n",
    "        self.right = right    \n",
    "    #to check for leaf node\n",
    "    def is_leaf_node(self):\n",
    "        return self.value is not None"
   ]
  },
  {
   "cell_type": "code",
   "execution_count": 4,
   "metadata": {},
   "outputs": [],
   "source": [
    "class DecisionTree:\n",
    "    def __init__(self, min_samples_split=5, max_depth=3, n_feats=None):\n",
    "        self.min_samples_split = min_samples_split\n",
    "        self.max_depth = max_depth\n",
    "        self.n_feats = n_feats\n",
    "        self.root = None\n",
    "\n",
    "    def fit(self, X, y):\n",
    "        X, y = np.asarray(X), np.asarray(y)\n",
    "        self.n_feats = X.shape[1] if not self.n_feats else min(self.n_feats, X.shape[1])\n",
    "        self.root = self.grow(X, y)\n",
    "\n",
    "    def predict(self, X):\n",
    "        return np.array([self.traverse(x, self.root) for x in np.asarray(X)])\n",
    "\n",
    "    def grow(self, X, y, depth=0):\n",
    "        n_s, n_f = X.shape\n",
    "        n_l = len(np.unique(y))\n",
    "        if (depth >= self.max_depth or n_l == 1 or n_s < self.min_samples_split):\n",
    "            _leaf = self.most_common_label(y)\n",
    "            return Node(value = _leaf)\n",
    "        f_i = np.random.choice(n_f, self.n_feats, replace=False)\n",
    "        best_f, best_t = self._best_criteria(X, y, f_i)\n",
    "        l_i, r_i = self.split(X[:, best_f], best_t)\n",
    "        l = self.grow(X[l_i, :], y[l_i], depth+1)\n",
    "        r = self.grow(X[r_i, :], y[r_i], depth+1)\n",
    "        return Node(best_f, best_t, l, r)\n",
    "\n",
    "    def _best_criteria(self, X, y, f_i):\n",
    "        best_g = -1\n",
    "        split_i, split_t = None, None\n",
    "        for _f in f_i:\n",
    "            X_column = X[:, _f]\n",
    "            thresholds = np.unique(X_column)\n",
    "            for t in thresholds:\n",
    "                g = self.gini_index(y, X_column, t)\n",
    "                if g > best_g:\n",
    "                    best_g, split_i, split_t = g, _f, t\n",
    "        return split_i, split_t\n",
    "\n",
    "    def gini_index(self, y, X_column, split_t):\n",
    "        parent_sumofsq = (1-np.sum([i * i for i in (np.bincount(y) / len(y)) if i > 0]))\n",
    "        l_i, r_i = self.split(X_column, split_t)\n",
    "        if len(l_i) == 0 or len(r_i) == 0:\n",
    "            return 0\n",
    "        n_l, n_r = len(l_i), len(r_i)\n",
    "        e_l = (1-np.sum([i * i for i in (np.bincount(y[l_i]) / len(y[l_i])) if i > 0]))\n",
    "        e_r = (1-np.sum([i * i for i in (np.bincount(y[r_i]) / len(y[r_i])) if i > 0]))\n",
    "        child_sumofsq = (n_l / len(y)) * e_l + (n_r / len(y)) * e_r\n",
    "        ig = parent_sumofsq - child_sumofsq \n",
    "        return ig\n",
    "\n",
    "    def split(self, X_column, split_t):\n",
    "        l_i, r_i = np.argwhere(X_column <= split_t).flatten(), np.argwhere(X_column > split_t).flatten()\n",
    "        return l_i, r_i\n",
    "\n",
    "    def traverse(self, x, node):\n",
    "        if node.is_leaf_node():\n",
    "            return node.value\n",
    "        if x[node.feature] <= node.threshold:\n",
    "            return self.traverse(x, node.left)\n",
    "        return self.traverse(x, node.right)\n",
    "\n",
    "    def most_common_label(self, y):\n",
    "        counter = Counter(y)\n",
    "        most_common = counter.most_common(1)\n",
    "        if(len(most_common) > 0):\n",
    "            most_common = most_common[0][0]\n",
    "        else:\n",
    "            most_common = 0.0\n",
    "        return most_common"
   ]
  },
  {
   "cell_type": "markdown",
   "metadata": {},
   "source": [
    "Accuracy on Different Train - Test Split Sizes:\n",
    "A helping function that utilizes train_test_split from sklearn to automatically split the dataset. After then; fit, predict, store accuracy.\n",
    "parameters:\n",
    "- s = start of the steps\n",
    "- e = end of the steps\n",
    "- a = stride\n",
    "- X and y = Features and targets.\n",
    "  \n",
    "Accuracy of Decision Tree with different maximum depth:\n",
    "A hepling function that allows cross-validation on Decision Trees by varying maximum depth of the tree."
   ]
  },
  {
   "cell_type": "code",
   "execution_count": 5,
   "metadata": {},
   "outputs": [],
   "source": [
    "def split_accuracies(s, e, a, X, y):\n",
    "    nb_scores, dt_scores = [], []\n",
    "    for i in range(s, e, a):\n",
    "        X_train, X_test, y_train, y_test = train_test_split(X, y, test_size = (100-i)/100, random_state = 0)\n",
    "        nb = NaiveBayes()\n",
    "        dt = DecisionTree()\n",
    "        nb.fit(X_train, y_train)\n",
    "        dt.fit(X_train, y_train)\n",
    "        nb_p = nb.predict(X_test)\n",
    "        dt_p = dt.predict(X_test)\n",
    "        nb_a = accuracy_score(y_test, nb_p)\n",
    "        dt_a = accuracy_score(y_test, dt_p)\n",
    "        nb_scores.append(nb_a)\n",
    "        dt_scores.append(dt_a)\n",
    "    return nb_scores, dt_scores\n",
    "\n",
    "def depth_accuracies(X, y):\n",
    "    depth_scores = []\n",
    "    for i in range(1,11):\n",
    "        X_train, X_test, y_train, y_test = train_test_split(X, y, test_size = 0.3, random_state = 0)\n",
    "        dt = DecisionTree(max_depth=i, min_samples_split=5)\n",
    "        dt.fit(X_train, y_train)\n",
    "        dt_p = dt.predict(X_test)\n",
    "        a = accuracy_score(y_test, dt_p)\n",
    "        depth_scores.append(a)\n",
    "    return depth_scores"
   ]
  },
  {
   "cell_type": "markdown",
   "metadata": {},
   "source": [
    "## Experiment\n",
    "\n",
    "First thing to do is to load the dataset. Then show the head of the data to observe the structure of the dataset. Head function outputs valuable information about dataset such as the features, the targets, the types of values stored etc."
   ]
  },
  {
   "cell_type": "code",
   "execution_count": 6,
   "metadata": {},
   "outputs": [
    {
     "name": "stdout",
     "output_type": "stream",
     "text": [
      "(150, 5)\n",
      "(100, 4) (100,)\n",
      "(50, 4) (50,)\n"
     ]
    }
   ],
   "source": [
    "df = pd.read_csv('data/iris.csv')\n",
    "labelencoder=LabelEncoder()\n",
    "for column in df.columns:\n",
    "    df[column] = labelencoder.fit_transform(df[column])\n",
    "df = df.sample(frac=1, random_state=1).reset_index(drop=True)\n",
    "print(df.shape)\n",
    "X, y = df.iloc[:, :-1], df.iloc[:, -1]\n",
    "X_train, X_test, y_train, y_test = X[:100], X[100:], y[:100], y[100:]\n",
    "print(X_train.shape, y_train.shape)\n",
    "print(X_test.shape, y_test.shape)"
   ]
  },
  {
   "cell_type": "code",
   "execution_count": 7,
   "metadata": {},
   "outputs": [],
   "source": [
    "nb = NaiveBayes()\n",
    "nb.fit(X_train, y_train)\n",
    "\n",
    "dt = DecisionTree()\n",
    "dt.fit(X_train, y_train)\n",
    "\n",
    "nb_p = nb.predict(X_test)\n",
    "dt_p = dt.predict(X_test)"
   ]
  },
  {
   "cell_type": "code",
   "execution_count": 8,
   "metadata": {},
   "outputs": [
    {
     "name": "stdout",
     "output_type": "stream",
     "text": [
      "Naive Bayes Classifier report: \n",
      "\n",
      "               precision    recall  f1-score   support\n",
      "\n",
      "           0       1.00      1.00      1.00        19\n",
      "           1       0.85      0.94      0.89        18\n",
      "           2       0.91      0.77      0.83        13\n",
      "\n",
      "   micro avg       0.92      0.92      0.92        50\n",
      "   macro avg       0.92      0.90      0.91        50\n",
      "weighted avg       0.92      0.92      0.92        50\n",
      "\n",
      "Decision Tree Classifier report: \n",
      "\n",
      "               precision    recall  f1-score   support\n",
      "\n",
      "           0       1.00      1.00      1.00        19\n",
      "           1       0.79      0.83      0.81        18\n",
      "           2       0.75      0.69      0.72        13\n",
      "\n",
      "   micro avg       0.86      0.86      0.86        50\n",
      "   macro avg       0.85      0.84      0.84        50\n",
      "weighted avg       0.86      0.86      0.86        50\n",
      "\n"
     ]
    }
   ],
   "source": [
    "print(\"Naive Bayes Classifier report: \\n\\n\", classification_report(y_test, nb_p))\n",
    "print(\"Decision Tree Classifier report: \\n\\n\", classification_report(y_test, dt_p))"
   ]
  },
  {
   "cell_type": "code",
   "execution_count": 9,
   "metadata": {},
   "outputs": [],
   "source": [
    "nb_scores, dt_scores = splitaccuracies(50, 100, 5, X, y)"
   ]
  },
  {
   "cell_type": "code",
   "execution_count": 10,
   "metadata": {},
   "outputs": [
    {
     "name": "stdout",
     "output_type": "stream",
     "text": [
      "[0.96, 0.9558823529411765, 0.9333333333333333, 0.9245283018867925, 0.9333333333333333, 0.9473684210526315, 0.9333333333333333, 0.9565217391304348, 0.9333333333333333, 0.875]\n",
      "[0.8933333333333333, 0.8823529411764706, 0.8833333333333333, 0.9433962264150944, 0.9555555555555556, 0.9473684210526315, 0.9, 0.9565217391304348, 0.9333333333333333, 0.75]\n"
     ]
    }
   ],
   "source": [
    "print(nb_scores)\n",
    "print(dt_scores)"
   ]
  },
  {
   "cell_type": "code",
   "execution_count": 11,
   "metadata": {},
   "outputs": [
    {
     "data": {
      "image/png": "[encoded data removed]",
      "text/plain": [
       "<Figure size 360x360 with 1 Axes>"
      ]
     },
     "metadata": {
      "needs_background": "light"
     },
     "output_type": "display_data"
    }
   ],
   "source": [
    "plt.figure(figsize =(5, 5)) \n",
    "plt.plot([i for i in range(50, 100,5)], nb_scores, marker='*', color = 'red', label='NB')\n",
    "plt.plot([i for i in range(50, 100,5)], dt_scores, marker='*', color = 'blue', label='DT')\n",
    "plt.legend(bbox_to_anchor=(1.05, 1), loc='upper left', borderaxespad=0.)\n",
    "plt.xlabel('Training Size')\n",
    "plt.xticks(np.arange(50,100,5))\n",
    "plt.ylabel('Accuracy Scores')\n",
    "plt.title('Naive Bayes vs. Decision Tree scores for different data splits')\n",
    "plt.show()"
   ]
  },
  {
   "cell_type": "code",
   "execution_count": 12,
   "metadata": {},
   "outputs": [],
   "source": [
    "depth_scores = depthaccuracies(X, y)"
   ]
  },
  {
   "cell_type": "code",
   "execution_count": 13,
   "metadata": {},
   "outputs": [
    {
     "name": "stdout",
     "output_type": "stream",
     "text": [
      "[0.6, 0.9111111111111111, 0.9333333333333333, 0.9555555555555556, 0.9333333333333333, 0.9333333333333333, 0.9333333333333333, 0.9333333333333333, 0.9333333333333333, 0.9333333333333333]\n"
     ]
    }
   ],
   "source": [
    "print(depth_scores)"
   ]
  },
  {
   "cell_type": "code",
   "execution_count": 14,
   "metadata": {},
   "outputs": [
    {
     "data": {
      "image/png": "[encoded data removed]",
      "text/plain": [
       "<Figure size 360x360 with 1 Axes>"
      ]
     },
     "metadata": {
      "needs_background": "light"
     },
     "output_type": "display_data"
    }
   ],
   "source": [
    "plt.figure(figsize =(5, 5)) \n",
    "plt.plot([i for i in range(1,11)], depth_scores, marker='*', color = 'red', label='Train')\n",
    "plt.legend(bbox_to_anchor=(1.05, 1), loc='upper left', borderaxespad=0.)\n",
    "plt.xlabel('Max Depths')\n",
    "plt.xticks(np.arange(1,11,1))\n",
    "plt.ylabel('Accuracy Scores')\n",
    "plt.title('Decision Tree Classifier scores for different Max Depths')\n",
    "plt.show()"
   ]
  },
  {
   "cell_type": "code",
   "execution_count": 15,
   "metadata": {},
   "outputs": [
    {
     "data": {
      "text/html": [
       "<div>\n",
       "<style scoped>\n",
       "    .dataframe tbody tr th:only-of-type {\n",
       "        vertical-align: middle;\n",
       "    }\n",
       "\n",
       "    .dataframe tbody tr th {\n",
       "        vertical-align: top;\n",
       "    }\n",
       "\n",
       "    .dataframe thead th {\n",
       "        text-align: right;\n",
       "    }\n",
       "</style>\n",
       "<table border=\"1\" class=\"dataframe\">\n",
       "  <thead>\n",
       "    <tr style=\"text-align: right;\">\n",
       "      <th></th>\n",
       "      <th>class</th>\n",
       "      <th>cap-shape</th>\n",
       "      <th>cap-surface</th>\n",
       "      <th>cap-color</th>\n",
       "      <th>bruises</th>\n",
       "      <th>odor</th>\n",
       "      <th>gill-attachment</th>\n",
       "      <th>gill-spacing</th>\n",
       "      <th>gill-size</th>\n",
       "      <th>gill-color</th>\n",
       "      <th>...</th>\n",
       "      <th>stalk-surface-below-ring</th>\n",
       "      <th>stalk-color-above-ring</th>\n",
       "      <th>stalk-color-below-ring</th>\n",
       "      <th>veil-type</th>\n",
       "      <th>veil-color</th>\n",
       "      <th>ring-number</th>\n",
       "      <th>ring-type</th>\n",
       "      <th>spore-print-color</th>\n",
       "      <th>population</th>\n",
       "      <th>habitat</th>\n",
       "    </tr>\n",
       "  </thead>\n",
       "  <tbody>\n",
       "    <tr>\n",
       "      <th>0</th>\n",
       "      <td>p</td>\n",
       "      <td>x</td>\n",
       "      <td>s</td>\n",
       "      <td>n</td>\n",
       "      <td>t</td>\n",
       "      <td>p</td>\n",
       "      <td>f</td>\n",
       "      <td>c</td>\n",
       "      <td>n</td>\n",
       "      <td>k</td>\n",
       "      <td>...</td>\n",
       "      <td>s</td>\n",
       "      <td>w</td>\n",
       "      <td>w</td>\n",
       "      <td>p</td>\n",
       "      <td>w</td>\n",
       "      <td>o</td>\n",
       "      <td>p</td>\n",
       "      <td>k</td>\n",
       "      <td>s</td>\n",
       "      <td>u</td>\n",
       "    </tr>\n",
       "    <tr>\n",
       "      <th>1</th>\n",
       "      <td>e</td>\n",
       "      <td>x</td>\n",
       "      <td>s</td>\n",
       "      <td>y</td>\n",
       "      <td>t</td>\n",
       "      <td>a</td>\n",
       "      <td>f</td>\n",
       "      <td>c</td>\n",
       "      <td>b</td>\n",
       "      <td>k</td>\n",
       "      <td>...</td>\n",
       "      <td>s</td>\n",
       "      <td>w</td>\n",
       "      <td>w</td>\n",
       "      <td>p</td>\n",
       "      <td>w</td>\n",
       "      <td>o</td>\n",
       "      <td>p</td>\n",
       "      <td>n</td>\n",
       "      <td>n</td>\n",
       "      <td>g</td>\n",
       "    </tr>\n",
       "    <tr>\n",
       "      <th>2</th>\n",
       "      <td>e</td>\n",
       "      <td>b</td>\n",
       "      <td>s</td>\n",
       "      <td>w</td>\n",
       "      <td>t</td>\n",
       "      <td>l</td>\n",
       "      <td>f</td>\n",
       "      <td>c</td>\n",
       "      <td>b</td>\n",
       "      <td>n</td>\n",
       "      <td>...</td>\n",
       "      <td>s</td>\n",
       "      <td>w</td>\n",
       "      <td>w</td>\n",
       "      <td>p</td>\n",
       "      <td>w</td>\n",
       "      <td>o</td>\n",
       "      <td>p</td>\n",
       "      <td>n</td>\n",
       "      <td>n</td>\n",
       "      <td>m</td>\n",
       "    </tr>\n",
       "    <tr>\n",
       "      <th>3</th>\n",
       "      <td>p</td>\n",
       "      <td>x</td>\n",
       "      <td>y</td>\n",
       "      <td>w</td>\n",
       "      <td>t</td>\n",
       "      <td>p</td>\n",
       "      <td>f</td>\n",
       "      <td>c</td>\n",
       "      <td>n</td>\n",
       "      <td>n</td>\n",
       "      <td>...</td>\n",
       "      <td>s</td>\n",
       "      <td>w</td>\n",
       "      <td>w</td>\n",
       "      <td>p</td>\n",
       "      <td>w</td>\n",
       "      <td>o</td>\n",
       "      <td>p</td>\n",
       "      <td>k</td>\n",
       "      <td>s</td>\n",
       "      <td>u</td>\n",
       "    </tr>\n",
       "    <tr>\n",
       "      <th>4</th>\n",
       "      <td>e</td>\n",
       "      <td>x</td>\n",
       "      <td>s</td>\n",
       "      <td>g</td>\n",
       "      <td>f</td>\n",
       "      <td>n</td>\n",
       "      <td>f</td>\n",
       "      <td>w</td>\n",
       "      <td>b</td>\n",
       "      <td>k</td>\n",
       "      <td>...</td>\n",
       "      <td>s</td>\n",
       "      <td>w</td>\n",
       "      <td>w</td>\n",
       "      <td>p</td>\n",
       "      <td>w</td>\n",
       "      <td>o</td>\n",
       "      <td>e</td>\n",
       "      <td>n</td>\n",
       "      <td>a</td>\n",
       "      <td>g</td>\n",
       "    </tr>\n",
       "  </tbody>\n",
       "</table>\n",
       "<p>5 rows × 23 columns</p>\n",
       "</div>"
      ],
      "text/plain": [
       "  class cap-shape cap-surface cap-color bruises odor gill-attachment  \\\n",
       "0     p         x           s         n       t    p               f   \n",
       "1     e         x           s         y       t    a               f   \n",
       "2     e         b           s         w       t    l               f   \n",
       "3     p         x           y         w       t    p               f   \n",
       "4     e         x           s         g       f    n               f   \n",
       "\n",
       "  gill-spacing gill-size gill-color  ... stalk-surface-below-ring  \\\n",
       "0            c         n          k  ...                        s   \n",
       "1            c         b          k  ...                        s   \n",
       "2            c         b          n  ...                        s   \n",
       "3            c         n          n  ...                        s   \n",
       "4            w         b          k  ...                        s   \n",
       "\n",
       "  stalk-color-above-ring stalk-color-below-ring veil-type veil-color  \\\n",
       "0                      w                      w         p          w   \n",
       "1                      w                      w         p          w   \n",
       "2                      w                      w         p          w   \n",
       "3                      w                      w         p          w   \n",
       "4                      w                      w         p          w   \n",
       "\n",
       "  ring-number ring-type spore-print-color population habitat  \n",
       "0           o         p                 k          s       u  \n",
       "1           o         p                 n          n       g  \n",
       "2           o         p                 n          n       m  \n",
       "3           o         p                 k          s       u  \n",
       "4           o         e                 n          a       g  \n",
       "\n",
       "[5 rows x 23 columns]"
      ]
     },
     "execution_count": 15,
     "metadata": {},
     "output_type": "execute_result"
    }
   ],
   "source": [
    "df = pd.read_csv(\"data/mushrooms.csv\")\n",
    "df.head()"
   ]
  },
  {
   "cell_type": "code",
   "execution_count": 16,
   "metadata": {},
   "outputs": [
    {
     "data": {
      "image/png": "[encoded data removed]",
      "text/plain": [
       "<Figure size 576x504 with 1 Axes>"
      ]
     },
     "metadata": {
      "needs_background": "light"
     },
     "output_type": "display_data"
    }
   ],
   "source": [
    "count = df['class'].value_counts()\n",
    "plt.figure(figsize=(8,7))\n",
    "sns.barplot(count.index, count.values)\n",
    "plt.ylabel('Count', fontsize=12)\n",
    "plt.xlabel('Class', fontsize=12)\n",
    "plt.title('Poisonous / Edible')\n",
    "plt.show()"
   ]
  },
  {
   "cell_type": "code",
   "execution_count": 17,
   "metadata": {},
   "outputs": [],
   "source": [
    "labelencoder=LabelEncoder()\n",
    "for column in df.columns:\n",
    "    df[column] = labelencoder.fit_transform(df[column])\n",
    "df = df.drop([\"veil-type\"],axis=1)\n",
    "X = df.drop(['class'], axis=1)\n",
    "y = df['class']\n",
    "X_train, X_test, y_train, y_test = train_test_split(X, y, random_state=42, test_size=0.1)"
   ]
  },
  {
   "cell_type": "code",
   "execution_count": 18,
   "metadata": {},
   "outputs": [],
   "source": [
    "nb = NaiveBayes()\n",
    "nb.fit(X_train, y_train)\n",
    "\n",
    "dt = DecisionTree()\n",
    "dt.fit(X_train, y_train)\n",
    "\n",
    "nb_p = nb.predict(X_test)\n",
    "dt_p = dt.predict(X_test)"
   ]
  },
  {
   "cell_type": "code",
   "execution_count": 19,
   "metadata": {},
   "outputs": [
    {
     "name": "stdout",
     "output_type": "stream",
     "text": [
      "Naive Bayes Classifier report: \n",
      "\n",
      "               precision    recall  f1-score   support\n",
      "\n",
      "           0       0.94      0.50      0.65       433\n",
      "           1       0.63      0.96      0.76       380\n",
      "\n",
      "   micro avg       0.72      0.72      0.72       813\n",
      "   macro avg       0.78      0.73      0.71       813\n",
      "weighted avg       0.79      0.72      0.70       813\n",
      "\n",
      "Decision Tree Classifier report: \n",
      "\n",
      "               precision    recall  f1-score   support\n",
      "\n",
      "           0       0.98      0.94      0.96       433\n",
      "           1       0.93      0.98      0.96       380\n",
      "\n",
      "   micro avg       0.96      0.96      0.96       813\n",
      "   macro avg       0.96      0.96      0.96       813\n",
      "weighted avg       0.96      0.96      0.96       813\n",
      "\n"
     ]
    }
   ],
   "source": [
    "print(\"Naive Bayes Classifier report: \\n\\n\", classification_report(y_test, nb_p))\n",
    "print(\"Decision Tree Classifier report: \\n\\n\", classification_report(y_test, dt_p))"
   ]
  },
  {
   "cell_type": "code",
   "execution_count": 20,
   "metadata": {},
   "outputs": [
    {
     "data": {
      "image/png": "[encoded data removed]",
      "text/plain": [
       "<Figure size 360x360 with 1 Axes>"
      ]
     },
     "metadata": {
      "needs_background": "light"
     },
     "output_type": "display_data"
    }
   ],
   "source": [
    "nb_scores, dt_scores = [], []\n",
    "nb_scores, dt_scores = splitaccuracies(50, 100, 5, X, y)\n",
    "plt.figure(figsize =(5, 5)) \n",
    "plt.plot([i for i in range(50, 100,5)], nb_scores, marker='*', color = 'red', label='NB')\n",
    "plt.plot([i for i in range(50, 100,5)], dt_scores, marker='*', color = 'blue', label='DT')\n",
    "plt.legend(bbox_to_anchor=(1.05, 1), loc='upper left', borderaxespad=0.)\n",
    "plt.xlabel('Training Size')\n",
    "plt.xticks(np.arange(50,100,5))\n",
    "plt.ylabel('Accuracy Scores')\n",
    "plt.title('Naive Bayes vs. Decision Tree scores for different data splits')\n",
    "plt.show()"
   ]
  },
  {
   "cell_type": "code",
   "execution_count": 21,
   "metadata": {},
   "outputs": [
    {
     "data": {
      "image/png": "[encoded data removed]",
      "text/plain": [
       "<Figure size 360x360 with 1 Axes>"
      ]
     },
     "metadata": {
      "needs_background": "light"
     },
     "output_type": "display_data"
    }
   ],
   "source": [
    "depth_scores = depthaccuracies(X, y)\n",
    "plt.figure(figsize =(5, 5)) \n",
    "plt.plot([i for i in range(1,11)], depth_scores, marker='*', color = 'red', label='Train')\n",
    "plt.legend(bbox_to_anchor=(1.05, 1), loc='upper left', borderaxespad=0.)\n",
    "plt.xlabel('Max Depths')\n",
    "plt.xticks(np.arange(1,11,1))\n",
    "plt.ylabel('Accuracy Scores')\n",
    "plt.title('Decision Tree Classifier scores for different Max Depths')\n",
    "plt.show()"
   ]
  },
  {
   "cell_type": "code",
   "execution_count": 22,
   "metadata": {},
   "outputs": [
    {
     "data": {
      "text/html": [
       "<div>\n",
       "<style scoped>\n",
       "    .dataframe tbody tr th:only-of-type {\n",
       "        vertical-align: middle;\n",
       "    }\n",
       "\n",
       "    .dataframe tbody tr th {\n",
       "        vertical-align: top;\n",
       "    }\n",
       "\n",
       "    .dataframe thead th {\n",
       "        text-align: right;\n",
       "    }\n",
       "</style>\n",
       "<table border=\"1\" class=\"dataframe\">\n",
       "  <thead>\n",
       "    <tr style=\"text-align: right;\">\n",
       "      <th></th>\n",
       "      <th>satisfaction_level</th>\n",
       "      <th>last_evaluation</th>\n",
       "      <th>number_project</th>\n",
       "      <th>average_montly_hours</th>\n",
       "      <th>time_spend_company</th>\n",
       "      <th>Work_accident</th>\n",
       "      <th>left</th>\n",
       "      <th>promotion_last_5years</th>\n",
       "      <th>sales</th>\n",
       "      <th>salary</th>\n",
       "    </tr>\n",
       "  </thead>\n",
       "  <tbody>\n",
       "    <tr>\n",
       "      <th>0</th>\n",
       "      <td>0.10</td>\n",
       "      <td>0.90</td>\n",
       "      <td>7</td>\n",
       "      <td>286</td>\n",
       "      <td>4</td>\n",
       "      <td>0</td>\n",
       "      <td>1</td>\n",
       "      <td>0</td>\n",
       "      <td>sales</td>\n",
       "      <td>low</td>\n",
       "    </tr>\n",
       "    <tr>\n",
       "      <th>1</th>\n",
       "      <td>0.89</td>\n",
       "      <td>0.93</td>\n",
       "      <td>4</td>\n",
       "      <td>249</td>\n",
       "      <td>3</td>\n",
       "      <td>0</td>\n",
       "      <td>0</td>\n",
       "      <td>0</td>\n",
       "      <td>sales</td>\n",
       "      <td>low</td>\n",
       "    </tr>\n",
       "    <tr>\n",
       "      <th>2</th>\n",
       "      <td>0.38</td>\n",
       "      <td>0.50</td>\n",
       "      <td>2</td>\n",
       "      <td>132</td>\n",
       "      <td>3</td>\n",
       "      <td>0</td>\n",
       "      <td>1</td>\n",
       "      <td>0</td>\n",
       "      <td>accounting</td>\n",
       "      <td>low</td>\n",
       "    </tr>\n",
       "    <tr>\n",
       "      <th>3</th>\n",
       "      <td>0.95</td>\n",
       "      <td>0.71</td>\n",
       "      <td>4</td>\n",
       "      <td>151</td>\n",
       "      <td>4</td>\n",
       "      <td>0</td>\n",
       "      <td>0</td>\n",
       "      <td>0</td>\n",
       "      <td>sales</td>\n",
       "      <td>medium</td>\n",
       "    </tr>\n",
       "    <tr>\n",
       "      <th>4</th>\n",
       "      <td>0.84</td>\n",
       "      <td>0.84</td>\n",
       "      <td>5</td>\n",
       "      <td>163</td>\n",
       "      <td>3</td>\n",
       "      <td>0</td>\n",
       "      <td>0</td>\n",
       "      <td>0</td>\n",
       "      <td>technical</td>\n",
       "      <td>low</td>\n",
       "    </tr>\n",
       "  </tbody>\n",
       "</table>\n",
       "</div>"
      ],
      "text/plain": [
       "   satisfaction_level  last_evaluation  number_project  average_montly_hours  \\\n",
       "0                0.10             0.90               7                   286   \n",
       "1                0.89             0.93               4                   249   \n",
       "2                0.38             0.50               2                   132   \n",
       "3                0.95             0.71               4                   151   \n",
       "4                0.84             0.84               5                   163   \n",
       "\n",
       "   time_spend_company  Work_accident  left  promotion_last_5years       sales  \\\n",
       "0                   4              0     1                      0       sales   \n",
       "1                   3              0     0                      0       sales   \n",
       "2                   3              0     1                      0  accounting   \n",
       "3                   4              0     0                      0       sales   \n",
       "4                   3              0     0                      0   technical   \n",
       "\n",
       "   salary  \n",
       "0     low  \n",
       "1     low  \n",
       "2     low  \n",
       "3  medium  \n",
       "4     low  "
      ]
     },
     "execution_count": 22,
     "metadata": {},
     "output_type": "execute_result"
    }
   ],
   "source": [
    "df = pd.read_csv('data/data.csv')\n",
    "df.head()"
   ]
  },
  {
   "cell_type": "code",
   "execution_count": 23,
   "metadata": {},
   "outputs": [],
   "source": [
    "labelencoder=LabelEncoder()\n",
    "for column in df.columns:\n",
    "    df[column] = labelencoder.fit_transform(df[column])\n",
    "X = df.drop(['left'], axis=1)\n",
    "y = df['left']\n",
    "X_train, X_test, y_train, y_test = train_test_split(X, y, random_state=42, test_size=0.1)"
   ]
  },
  {
   "cell_type": "code",
   "execution_count": 24,
   "metadata": {},
   "outputs": [],
   "source": [
    "nb = NaiveBayes()\n",
    "nb.fit(X_train, y_train)\n",
    "\n",
    "dt = DecisionTree()\n",
    "dt.fit(X_train, y_train)\n",
    "\n",
    "nb_p = nb.predict(X_test)\n",
    "dt_p = dt.predict(X_test)"
   ]
  },
  {
   "cell_type": "code",
   "execution_count": 25,
   "metadata": {},
   "outputs": [
    {
     "name": "stdout",
     "output_type": "stream",
     "text": [
      "Naive Bayes Classifier report: \n",
      "\n",
      "               precision    recall  f1-score   support\n",
      "\n",
      "           0       0.88      0.89      0.88       833\n",
      "           1       0.67      0.65      0.66       291\n",
      "\n",
      "   micro avg       0.83      0.83      0.83      1124\n",
      "   macro avg       0.78      0.77      0.77      1124\n",
      "weighted avg       0.83      0.83      0.83      1124\n",
      "\n",
      "Decision Tree Classifier report: \n",
      "\n",
      "               precision    recall  f1-score   support\n",
      "\n",
      "           0       0.97      0.96      0.96       833\n",
      "           1       0.89      0.92      0.90       291\n",
      "\n",
      "   micro avg       0.95      0.95      0.95      1124\n",
      "   macro avg       0.93      0.94      0.93      1124\n",
      "weighted avg       0.95      0.95      0.95      1124\n",
      "\n"
     ]
    }
   ],
   "source": [
    "print(\"Naive Bayes Classifier report: \\n\\n\", classification_report(y_test, nb_p))\n",
    "print(\"Decision Tree Classifier report: \\n\\n\", classification_report(y_test, dt_p))"
   ]
  },
  {
   "cell_type": "code",
   "execution_count": 26,
   "metadata": {},
   "outputs": [
    {
     "data": {
      "image/png": "[encoded data removed]",
      "text/plain": [
       "<Figure size 360x360 with 1 Axes>"
      ]
     },
     "metadata": {
      "needs_background": "light"
     },
     "output_type": "display_data"
    }
   ],
   "source": [
    "nb_scores, dt_scores = [], []\n",
    "nb_scores, dt_scores = splitaccuracies(50, 100, 5, X, y)\n",
    "plt.figure(figsize =(5, 5)) \n",
    "plt.plot([i for i in range(50, 100,5)], nb_scores, marker='*', color = 'red', label='NB')\n",
    "plt.plot([i for i in range(50, 100,5)], dt_scores, marker='*', color = 'blue', label='DT')\n",
    "plt.legend(bbox_to_anchor=(1.05, 1), loc='upper left', borderaxespad=0.)\n",
    "plt.xlabel('Training Size')\n",
    "plt.xticks(np.arange(50,100,5))\n",
    "plt.ylabel('Accuracy Scores')\n",
    "plt.title('Naive Bayes vs. Decision Tree scores for different data splits')\n",
    "plt.show()"
   ]
  },
  {
   "cell_type": "code",
   "execution_count": 27,
   "metadata": {},
   "outputs": [
    {
     "data": {
      "image/png": "[encoded data removed]",
      "text/plain": [
       "<Figure size 360x360 with 1 Axes>"
      ]
     },
     "metadata": {
      "needs_background": "light"
     },
     "output_type": "display_data"
    }
   ],
   "source": [
    "depth_scores = depthaccuracies(X, y)\n",
    "plt.figure(figsize =(5, 5)) \n",
    "plt.plot([i for i in range(1,11)], depth_scores, marker='*', color = 'red', label='Train')\n",
    "plt.legend(bbox_to_anchor=(1.05, 1), loc='upper left', borderaxespad=0.)\n",
    "plt.xlabel('Max Depths')\n",
    "plt.xticks(np.arange(1,11,1))\n",
    "plt.ylabel('Accuracy Scores')\n",
    "plt.title('Decision Tree Classifier scores for different Max Depths')\n",
    "plt.show()"
   ]
  },
  {
   "cell_type": "code",
   "execution_count": 28,
   "metadata": {},
   "outputs": [
    {
     "data": {
      "text/html": [
       "<div>\n",
       "<style scoped>\n",
       "    .dataframe tbody tr th:only-of-type {\n",
       "        vertical-align: middle;\n",
       "    }\n",
       "\n",
       "    .dataframe tbody tr th {\n",
       "        vertical-align: top;\n",
       "    }\n",
       "\n",
       "    .dataframe thead th {\n",
       "        text-align: right;\n",
       "    }\n",
       "</style>\n",
       "<table border=\"1\" class=\"dataframe\">\n",
       "  <thead>\n",
       "    <tr style=\"text-align: right;\">\n",
       "      <th></th>\n",
       "      <th>variance</th>\n",
       "      <th>skewness</th>\n",
       "      <th>curtosis</th>\n",
       "      <th>entropy</th>\n",
       "      <th>class</th>\n",
       "    </tr>\n",
       "  </thead>\n",
       "  <tbody>\n",
       "    <tr>\n",
       "      <th>0</th>\n",
       "      <td>3.62160</td>\n",
       "      <td>8.6661</td>\n",
       "      <td>-2.8073</td>\n",
       "      <td>-0.44699</td>\n",
       "      <td>0</td>\n",
       "    </tr>\n",
       "    <tr>\n",
       "      <th>1</th>\n",
       "      <td>4.54590</td>\n",
       "      <td>8.1674</td>\n",
       "      <td>-2.4586</td>\n",
       "      <td>-1.46210</td>\n",
       "      <td>0</td>\n",
       "    </tr>\n",
       "    <tr>\n",
       "      <th>2</th>\n",
       "      <td>3.86600</td>\n",
       "      <td>-2.6383</td>\n",
       "      <td>1.9242</td>\n",
       "      <td>0.10645</td>\n",
       "      <td>0</td>\n",
       "    </tr>\n",
       "    <tr>\n",
       "      <th>3</th>\n",
       "      <td>3.45660</td>\n",
       "      <td>9.5228</td>\n",
       "      <td>-4.0112</td>\n",
       "      <td>-3.59440</td>\n",
       "      <td>0</td>\n",
       "    </tr>\n",
       "    <tr>\n",
       "      <th>4</th>\n",
       "      <td>0.32924</td>\n",
       "      <td>-4.4552</td>\n",
       "      <td>4.5718</td>\n",
       "      <td>-0.98880</td>\n",
       "      <td>0</td>\n",
       "    </tr>\n",
       "  </tbody>\n",
       "</table>\n",
       "</div>"
      ],
      "text/plain": [
       "   variance  skewness  curtosis  entropy  class\n",
       "0   3.62160    8.6661   -2.8073 -0.44699      0\n",
       "1   4.54590    8.1674   -2.4586 -1.46210      0\n",
       "2   3.86600   -2.6383    1.9242  0.10645      0\n",
       "3   3.45660    9.5228   -4.0112 -3.59440      0\n",
       "4   0.32924   -4.4552    4.5718 -0.98880      0"
      ]
     },
     "execution_count": 28,
     "metadata": {},
     "output_type": "execute_result"
    }
   ],
   "source": [
    "# https://www.kaggle.com/datasets/vivekgediya/banknote-authenticationcsv\n",
    "df = pd.read_csv('data/banknote.csv')\n",
    "df.head()"
   ]
  },
  {
   "cell_type": "markdown",
   "metadata": {},
   "source": [
    "Heatmap of the correlations in-between different features."
   ]
  },
  {
   "cell_type": "code",
   "execution_count": 29,
   "metadata": {},
   "outputs": [
    {
     "data": {
      "text/plain": [
       "<matplotlib.axes._subplots.AxesSubplot at 0x1668092b5c0>"
      ]
     },
     "execution_count": 29,
     "metadata": {},
     "output_type": "execute_result"
    },
    {
     "data": {
      "image/png": "[encoded data removed]",
      "text/plain": [
       "<Figure size 432x288 with 2 Axes>"
      ]
     },
     "metadata": {
      "needs_background": "light"
     },
     "output_type": "display_data"
    }
   ],
   "source": [
    "correlations = df.drop(columns=['class']).corr()\n",
    "sns.heatmap(correlations,cmap='summer')"
   ]
  },
  {
   "cell_type": "markdown",
   "metadata": {},
   "source": [
    "Target feature in the Banknotes dataset is defined as class. It is a binary classification that value 0 responds to \"fake\" classification and value 1 responds to \"real\". By plotting the number of the classes, some insight can be gained about the dataset, here the number of output classes does not differ from each to cause imbalance."
   ]
  },
  {
   "cell_type": "code",
   "execution_count": 30,
   "metadata": {},
   "outputs": [
    {
     "name": "stdout",
     "output_type": "stream",
     "text": [
      "0    762\n",
      "1    610\n",
      "Name: class, dtype: int64\n"
     ]
    },
    {
     "data": {
      "image/png": "[encoded data removed]",
      "text/plain": [
       "<Figure size 576x504 with 1 Axes>"
      ]
     },
     "metadata": {
      "needs_background": "light"
     },
     "output_type": "display_data"
    }
   ],
   "source": [
    "print(df['class'].value_counts())\n",
    "count = df['class'].value_counts()\n",
    "plt.figure(figsize=(8,7))\n",
    "sns.barplot(count.index, count.values)\n",
    "plt.ylabel('Count', fontsize=12)\n",
    "plt.xlabel('Class', fontsize=12)\n",
    "plt.title('Fake / Real')\n",
    "plt.show()"
   ]
  },
  {
   "cell_type": "markdown",
   "metadata": {},
   "source": [
    "All the labels are encoded. The data is splitted into training and test sets with percentages of 70 and 30 respectively."
   ]
  },
  {
   "cell_type": "code",
   "execution_count": 31,
   "metadata": {},
   "outputs": [],
   "source": [
    "labelencoder=LabelEncoder()\n",
    "for column in df.columns:\n",
    "    df[column] = labelencoder.fit_transform(df[column])\n",
    "X = df.drop(['class'], axis=1)\n",
    "y = df['class']\n",
    "X_train, X_test, y_train, y_test = train_test_split(X, y, random_state=42, test_size=0.3)"
   ]
  },
  {
   "cell_type": "markdown",
   "metadata": {},
   "source": [
    "Here the two classification functions are fit to the training data, then the test data is employed to evaluate the models."
   ]
  },
  {
   "cell_type": "code",
   "execution_count": 32,
   "metadata": {},
   "outputs": [],
   "source": [
    "nb = NaiveBayes()\n",
    "nb.fit(X_train, y_train)\n",
    "\n",
    "dt = DecisionTree()\n",
    "dt.fit(X_train, y_train)\n",
    "\n",
    "nb_p = nb.predict(X_test)\n",
    "dt_p = dt.predict(X_test)"
   ]
  },
  {
   "cell_type": "markdown",
   "metadata": {},
   "source": [
    "classification_report function provided by sklearn libraries can shed some light upon the accuracy of the model. Here, results for 3 different metrics can be seen on the output."
   ]
  },
  {
   "cell_type": "code",
   "execution_count": 33,
   "metadata": {},
   "outputs": [
    {
     "name": "stdout",
     "output_type": "stream",
     "text": [
      "Naive Bayes Classifier report: \n",
      "\n",
      "               precision    recall  f1-score   support\n",
      "\n",
      "           0       0.86      0.92      0.89       229\n",
      "           1       0.89      0.81      0.85       183\n",
      "\n",
      "   micro avg       0.87      0.87      0.87       412\n",
      "   macro avg       0.87      0.87      0.87       412\n",
      "weighted avg       0.87      0.87      0.87       412\n",
      "\n",
      "Decision Tree Classifier report: \n",
      "\n",
      "               precision    recall  f1-score   support\n",
      "\n",
      "           0       0.91      0.96      0.93       229\n",
      "           1       0.94      0.89      0.91       183\n",
      "\n",
      "   micro avg       0.92      0.92      0.92       412\n",
      "   macro avg       0.93      0.92      0.92       412\n",
      "weighted avg       0.93      0.92      0.92       412\n",
      "\n"
     ]
    }
   ],
   "source": [
    "print(\"Naive Bayes Classifier report: \\n\\n\", classification_report(y_test, nb_p))\n",
    "print(\"Decision Tree Classifier report: \\n\\n\", classification_report(y_test, dt_p))"
   ]
  },
  {
   "cell_type": "markdown",
   "metadata": {},
   "source": [
    "This section of the code is about validation of the models. First, the split_accuracies function is used to cross-validate both models on different train - test split sizes. The results for both models are presented with a graph."
   ]
  },
  {
   "cell_type": "code",
   "execution_count": 34,
   "metadata": {},
   "outputs": [
    {
     "data": {
      "image/png": "[encoded data removed]",
      "text/plain": [
       "<Figure size 360x360 with 1 Axes>"
      ]
     },
     "metadata": {
      "needs_background": "light"
     },
     "output_type": "display_data"
    }
   ],
   "source": [
    "nb_scores, dt_scores = [], []\n",
    "nb_scores, dt_scores = splitaccuracies(50, 100, 5, X, y)\n",
    "plt.figure(figsize =(5, 5)) \n",
    "plt.plot([i for i in range(50, 100,5)], nb_scores, marker='*', color = 'red', label='NB')\n",
    "plt.plot([i for i in range(50, 100,5)], dt_scores, marker='*', color = 'blue', label='DT')\n",
    "plt.legend(bbox_to_anchor=(1.05, 1), loc='upper left', borderaxespad=0.)\n",
    "plt.xlabel('Training Size')\n",
    "plt.xticks(np.arange(50,100,5))\n",
    "plt.ylabel('Accuracy Scores')\n",
    "plt.title('Naive Bayes vs. Decision Tree scores for different data splits')\n",
    "plt.show()"
   ]
  },
  {
   "cell_type": "markdown",
   "metadata": {},
   "source": [
    "Another cross-validation application for Decision Tree model only. Here the maximum depth of the tree is varied to see how it effects the accuracy."
   ]
  },
  {
   "cell_type": "code",
   "execution_count": 35,
   "metadata": {},
   "outputs": [
    {
     "data": {
      "image/png": "[encoded data removed]",
      "text/plain": [
       "<Figure size 360x360 with 1 Axes>"
      ]
     },
     "metadata": {
      "needs_background": "light"
     },
     "output_type": "display_data"
    }
   ],
   "source": [
    "depth_scores = depthaccuracies(X, y)\n",
    "plt.figure(figsize =(5, 5)) \n",
    "plt.plot([i for i in range(1,11)], depth_scores, marker='*', color = 'red', label='Train')\n",
    "plt.legend(bbox_to_anchor=(1.05, 1), loc='upper left', borderaxespad=0.)\n",
    "plt.xlabel('Max Depths')\n",
    "plt.xticks(np.arange(1,11,1))\n",
    "plt.ylabel('Accuracy Scores')\n",
    "plt.title('Decision Tree Classifier scores for different Max Depths')\n",
    "plt.show()"
   ]
  }
 ],
 "metadata": {
  "kernelspec": {
   "display_name": "Python 3",
   "language": "python",
   "name": "python3"
  },
  "language_info": {
   "codemirror_mode": {
    "name": "ipython",
    "version": 3
   },
   "file_extension": ".py",
   "mimetype": "text/x-python",
   "name": "python",
   "nbconvert_exporter": "python",
   "pygments_lexer": "ipython3",
   "version": "3.7.3"
  }
 },
 "nbformat": 4,
 "nbformat_minor": 2
}
