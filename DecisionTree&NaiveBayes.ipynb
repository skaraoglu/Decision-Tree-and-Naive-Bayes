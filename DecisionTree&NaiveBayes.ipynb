{
 "cells": [
  {
   "cell_type": "markdown",
   "metadata": {},
   "source": [
    "# Introduction\n",
    "\n",
    "In this project, two of the most commonly used classification methods, the Decision Tree and the Naive Bayes algorithms are implemented from scratch. Decision Tree and Naive Bayes methods are classification methods, therefore they can map the given attributes to some output. These classification methods serve for the same purpose, however they differ from each other with the way they make classifications. In machine learning terminology; Decision Tree is defined as a discriminative method while Naive Bayes is stated as a generative method. Both classifiers have their advantages and disadvantages, their success (classifications with high accuracies) depends on the nature of the dataset. Banknote dataset is a series of data that has 4 features (attributes) and a binary output; fake or real. This project is designed to utilize these classifiers to make classification on banknote dataset. Both classification methods trained on the banknote dataset and then resulting accuracies of the models are compared.\n",
    "## Classification Methods\n",
    "\n",
    "In this section, background information about the Decision Tree and the Naive Bayes methods are presented. These methods are employed in data science studies to perform classification tasks on the given data. Even though both models are utilized for the same task, they differ from each other by the the mathematical background and the techniques that they used. By using these classification methods, the goal is to do a classification on the banknote dataset and train a classification model that can suggest how the datapoints can be labeled with the most accurate way. Each method is explained in detail to provide an insight about how they make classifications and how they differ from each other."
   ]
  },
  {
   "cell_type": "markdown",
   "metadata": {},
   "source": [
    "## Libraries\n",
    "\n",
    "Numpy library is utilized to calculate the statistics. Pandas library is utilized to handle the datasets to map the features and targets in dataframe structure. Matplotlib and Seaborn libraries provide graphical representations presented in this work. The sklearn library is one of the main libraries employed in the data science area, here the helping functions classification_report and accuracy_score are used to gain information about model accuracy, train_test_split is utilized to split the dataset into training and test sets, LabelEncoder encodes target labels with value between 0 and n_classes-1. And counter function is the dictionary subclass used for counting the objects that are hashable."
   ]
  },
  {
   "cell_type": "code",
   "execution_count": 1,
   "metadata": {},
   "outputs": [],
   "source": [
    "import numpy as np\n",
    "import pandas as pd\n",
    "import matplotlib.pyplot as plt\n",
    "import seaborn as sns\n",
    "from sklearn.metrics import classification_report\n",
    "from sklearn.metrics import accuracy_score\n",
    "from sklearn.model_selection import train_test_split\n",
    "from sklearn.preprocessing import LabelEncoder\n",
    "from collections import Counter\n",
    "sns.set(style=\"whitegrid\")"
   ]
  },
  {
   "cell_type": "markdown",
   "metadata": {},
   "source": [
    "## Decision Tree\n",
    "\n",
    "Decision Tree is an upside-down tree that represent the decisions based on the given attributes. This method is implemented in machine learning researches with the purpose of making classifications based on the input data. Decision Trees naturally favor the data with categorical and conditional values. If the features are continuous, it can be converted to categorical data with an extra step. The upside-down structure of the tree allows to traverse the nodes of the tree to find the outcome owing to that each node consist of a feature that is split into more nodes down the tree structure. To build the Decision Tree, there is a necessity to compare and calculate the best split on features. To achieve this task and to decide how to split the tree, some splitting measure should be utilized.\n",
    "\n",
    "With the consideration of more than one feature is affecting the decision making process, the priority should be evaluating the impact of each feature. With this evaluation, the most important or relevant feature takes its place on the top of the tree. As the next step, the same process is applied to second most relevant feature and this process is finished when all the attributes are contributed in the evaluation process. As this process continues, moving down the tree, the uncertainty and impurity decreases, hence the classification gets more accurate.\n",
    "\n",
    "There are several methods to calculate the best splitting for the given attributes. Entropy is one of the splitting methods, it measures the uncertainty of a variable. This uncertainty of the variable $\"i\"$ is calculated with: $E(S) = \\sum_{i=1}^n-p_i\\log_2p_i$. Information Gain is another splitting method that is built on the Entropy method and aims to reduce the Entropy from the root to the leaves of the tree. Information Gain can be calculated with; $Gain(S) = E(S) - \\sum_{v(A)}\\frac{|S_v|}{|S|}E(S_v)$. Gini Index - Gini Impurity measures the probabilty of a variable being classified wrong and tries to minimize this to achieve better classification. On the calculation of Gini Index, the result varies between 0 and 1. Gini Index of 0 means that every attribute belong to a certain class or there are not multiple classes, when the Gini Index is 1, elements are randomly distributed to different classes. Gini Index can be obtained with: $Gini = 1 - \\sum_{i=1}^n(p_i)^2$. Here the $p_i$ refers to the probability of an element being classified to a certain class. When building the tree, the feature with the lowest Gini Index is assigned as the root note and the decision tree is built by repeating this step. Gini Index has more advantages comparing to Entropy and Information Gain, Gini Index is computationally less expensive comparing to other methods that employs logarithmic calculations. That's the reason that this project implements Gini Index as it's splitting measurement method.\n",
    "\n",
    "Decision Tree implementation of this project adopts this algorithm:"
   ]
  },
  {
   "cell_type": "code",
   "execution_count": 2,
   "metadata": {},
   "outputs": [],
   "source": [
    "# Defining node for the tree\n",
    "class Node:\n",
    "    def __init__(self, feature=None, threshold=None, left=None, right=None, *, value=None):\n",
    "        self.feature = feature\n",
    "        self.threshold = threshold\n",
    "        self.value = value\n",
    "        self.left = left\n",
    "        self.right = right    \n",
    "    #to check for leaf node\n",
    "    def is_leaf_node(self):\n",
    "        return self.value is not None"
   ]
  },
  {
   "cell_type": "code",
   "execution_count": 3,
   "metadata": {},
   "outputs": [],
   "source": [
    "class DecisionTree:\n",
    "    def __init__(self, min_samples_split=5, max_depth=3, n_feats=None):\n",
    "        self.min_samples_split = min_samples_split\n",
    "        self.max_depth = max_depth\n",
    "        self.n_feats = n_feats\n",
    "        self.root = None\n",
    "\n",
    "    def fit(self, X, y):\n",
    "        X, y = np.asarray(X), np.asarray(y)\n",
    "        self.n_feats = X.shape[1] if not self.n_feats else min(self.n_feats, X.shape[1])\n",
    "        self.root = self.grow(X, y)\n",
    "\n",
    "    def predict(self, X):\n",
    "        return np.array([self.traverse(x, self.root) for x in np.asarray(X)])\n",
    "\n",
    "    def grow(self, X, y, depth=0):\n",
    "        n_s, n_f = X.shape\n",
    "        n_l = len(np.unique(y))\n",
    "        if (depth >= self.max_depth or n_l == 1 or n_s < self.min_samples_split):\n",
    "            _leaf = self.most_common_label(y)\n",
    "            return Node(value = _leaf)\n",
    "        f_i = np.random.choice(n_f, self.n_feats, replace=False)\n",
    "        best_f, best_t = self._best_criteria(X, y, f_i)\n",
    "        l_i, r_i = self.split(X[:, best_f], best_t)\n",
    "        l = self.grow(X[l_i, :], y[l_i], depth+1)\n",
    "        r = self.grow(X[r_i, :], y[r_i], depth+1)\n",
    "        return Node(best_f, best_t, l, r)\n",
    "\n",
    "    def _best_criteria(self, X, y, f_i):\n",
    "        best_g = -1\n",
    "        split_i, split_t = None, None\n",
    "        for _f in f_i:\n",
    "            X_column = X[:, _f]\n",
    "            thresholds = np.unique(X_column)\n",
    "            for t in thresholds:\n",
    "                g = self.gini_index(y, X_column, t)\n",
    "                if g > best_g:\n",
    "                    best_g, split_i, split_t = g, _f, t\n",
    "        return split_i, split_t\n",
    "\n",
    "    def gini_index(self, y, X_column, split_t):\n",
    "        parent_sumofsq = (1-np.sum([i * i for i in (np.bincount(y) / len(y)) if i > 0]))\n",
    "        l_i, r_i = self.split(X_column, split_t)\n",
    "        if len(l_i) == 0 or len(r_i) == 0:\n",
    "            return 0\n",
    "        n_l, n_r = len(l_i), len(r_i)\n",
    "        e_l = (1-np.sum([i * i for i in (np.bincount(y[l_i]) / len(y[l_i])) if i > 0]))\n",
    "        e_r = (1-np.sum([i * i for i in (np.bincount(y[r_i]) / len(y[r_i])) if i > 0]))\n",
    "        child_sumofsq = (n_l / len(y)) * e_l + (n_r / len(y)) * e_r\n",
    "        ig = parent_sumofsq - child_sumofsq \n",
    "        return ig\n",
    "\n",
    "    def split(self, X_column, split_t):\n",
    "        l_i, r_i = np.argwhere(X_column <= split_t).flatten(), np.argwhere(X_column > split_t).flatten()\n",
    "        return l_i, r_i\n",
    "\n",
    "    def traverse(self, x, node):\n",
    "        if node.is_leaf_node():\n",
    "            return node.value\n",
    "        if x[node.feature] <= node.threshold:\n",
    "            return self.traverse(x, node.left)\n",
    "        return self.traverse(x, node.right)\n",
    "\n",
    "    def most_common_label(self, y):\n",
    "        counter = Counter(y)\n",
    "        most_common = counter.most_common(1)\n",
    "        if(len(most_common) > 0):\n",
    "            most_common = most_common[0][0]\n",
    "        else:\n",
    "            most_common = 0.0\n",
    "        return most_common"
   ]
  },
  {
   "cell_type": "markdown",
   "metadata": {},
   "source": [
    "## Naive Bayes\n",
    "\n",
    "Naive Bayes is a machine learning algorithm, more specifically, it is a classification method. This means that Naive Bayes is used when the output variable is discrete. The underlying methods of the algorithm are based on the Bayes Theorem that states:\n",
    "$$P(A|B)=\\frac{P(B|A)P(A)}{P(B)}$$\n",
    "To make it easier to understand, this equation can be written using the features (attributes, input values) and the targets (output values). In simpler terms; this function can be employed to solve for the probability of $y$ with given features $X$ as:\n",
    "$$P(y|X)=\\frac{P(X|y)P(y)}{P(X)}$$\n",
    "The Naive assumption takes place here on the formula. Naive Bayes method works on cases where different feature values are independent from each other. Therefore the formula can be rewritten as:\n",
    "$$\n",
    "P(X|y)=P(X_1|y)P(X_2|y)...P(X_n|y)\n",
    "$$\n",
    "It is clear that the goal is to solve for $y$, in this circumstance P(X) is a constant value and it can be removed from the equation. In addition to that, by implementing the proportional nature of the $X_1, X_2,...,X_n$ the equation can be presented as:\n",
    "$$P(y|X)=P(y)\\prod_{i=1}^nP(X_i|y)$$\n",
    "Since the values across the datapoints can be calculated, the last step should be the finding the maximum of these calculated output values of $y$. The maximum can be obtained with the $\\arg\\max$ function:\n",
    "$$\n",
    "y = \\arg\\max_y[P(y)\\prod_{i=1}^nP(X_i|y)]\n",
    "$$\n",
    "With taking consideration on provided information about Naive Bayes, the classification method can be explained as; first, create a frequency table and then a ratio table so that the values for P(X) and P(y|X) can be calculated, furthermore, for a given set of input features X, compute the proportionality of P(y|X) for each class y. In this example, the implementation should be binary or simply True or False output. Now as the last important part of the Naive Bayes method, there could be different assumptions when calculating $P(X|y)$ like Multinomial model, Bernoulli model and Gaussian model. This implementation adopts the Gaussian model with the assumption on the distribution of $P(X_i|y)$ follows a normal (Gaussian) distribution. Gaussian Naive Bayes model is based on the assumption of continuous values are sampled from a normal distribution, this assumption can be shown as:\n",
    "$$\n",
    "P(X_i|y) = \\frac{1}{\\sigma\\sqrt{2\\pi}}e^{-\\frac{1}{2}(\\frac{x - \\mu}{\\sigma})^2}\n",
    "$$\n",
    "Naive Bayes implementation for this work follows this algorithm:"
   ]
  },
  {
   "cell_type": "code",
   "execution_count": 4,
   "metadata": {},
   "outputs": [],
   "source": [
    "#Naive Bayes Classifier Class\n",
    "class NaiveBayes:\n",
    "    \n",
    "    def prior(self, X, y):\n",
    "        # calculate prior probability P(y)\n",
    "        self.prior = (X.groupby(y).apply(lambda x: len(x)) / self.rows).to_numpy()\n",
    "        return self.prior\n",
    "    \n",
    "    def stats(self, X, y):\n",
    "        #calculate mean, variance for each column and convert to numpy array\n",
    "        self.mu = X.groupby(y).apply(np.mean).to_numpy()\n",
    "        self.sigma = X.groupby(y).apply(np.var).to_numpy()              \n",
    "        return self.mu, self.sigma\n",
    "    \n",
    "    def density(self, class_idx, x):     \n",
    "        #calculate probability from gaussian density function (normally distributed)\n",
    "        mu = self.mu[class_idx]\n",
    "        sigma = self.sigma[class_idx]\n",
    "        n = np.exp((-1/2)*((x-mu)**2) / (2 * sigma))\n",
    "        d = np.sqrt(2 * np.pi * sigma)\n",
    "        p = n / d\n",
    "        return p\n",
    "    \n",
    "    def posterior(self, x):\n",
    "        posteriors = []\n",
    "        # calculate posterior probability for each class\n",
    "        for i in range(self.count):\n",
    "            prior = np.log(self.prior[i]) ## use the log to make it more numerically stable\n",
    "            conditional = np.sum(np.log(self.density(i, x))) # use the log to make it more numerically stable\n",
    "            posterior = prior + conditional\n",
    "            posteriors.append(posterior)\n",
    "        # return class with highest posterior probability\n",
    "        return self.classes[np.argmax(posteriors)]     \n",
    "\n",
    "    def fit(self, X, y):\n",
    "        self.classes = np.unique(y)\n",
    "        self.count = len(self.classes)\n",
    "        self.feature_nums = X.shape[1]\n",
    "        self.rows = X.shape[0]\n",
    "        \n",
    "        self.stats(X, y)\n",
    "        self.prior(X, y)\n",
    "        \n",
    "    def predict(self, X):\n",
    "        preds = [self.posterior(f) for f in X.to_numpy()]\n",
    "        return preds"
   ]
  },
  {
   "cell_type": "markdown",
   "metadata": {},
   "source": [
    "## Helping Functions\n",
    "\n",
    "Accuracy on Different Train - Test Split Sizes:\n",
    "A helping function that utilizes train_test_split from sklearn to automatically split the dataset. After then; fit, predict, store accuracy.\n",
    "parameters:\n",
    "- s = start of the steps\n",
    "- e = end of the steps\n",
    "- a = stride\n",
    "- X and y = Features and targets.\n",
    "  \n",
    "Accuracy of Decision Tree with different maximum depth:\n",
    "A hepling function that allows cross-validation on Decision Trees by varying maximum depth of the tree. Depth range is set from 1 to 10 by default."
   ]
  },
  {
   "cell_type": "code",
   "execution_count": 5,
   "metadata": {},
   "outputs": [],
   "source": [
    "def split_accuracies(s, e, a, X, y):\n",
    "    nb_scores, dt_scores = [], []\n",
    "    for i in range(s, e, a):\n",
    "        X_train, X_test, y_train, y_test = train_test_split(X, y, test_size = (100-i)/100, random_state = 0)\n",
    "        nb = NaiveBayes()\n",
    "        dt = DecisionTree()\n",
    "        nb.fit(X_train, y_train)\n",
    "        dt.fit(X_train, y_train)\n",
    "        nb_p = nb.predict(X_test)\n",
    "        dt_p = dt.predict(X_test)\n",
    "        nb_a = accuracy_score(y_test, nb_p)\n",
    "        dt_a = accuracy_score(y_test, dt_p)\n",
    "        nb_scores.append(nb_a)\n",
    "        dt_scores.append(dt_a)\n",
    "    return nb_scores, dt_scores\n",
    "\n",
    "def depth_accuracies(X, y):\n",
    "    depth_scores = []\n",
    "    for i in range(1,11):\n",
    "        X_train, X_test, y_train, y_test = train_test_split(X, y, test_size = 0.3, random_state = 0)\n",
    "        dt = DecisionTree(max_depth=i, min_samples_split=5)\n",
    "        dt.fit(X_train, y_train)\n",
    "        dt_p = dt.predict(X_test)\n",
    "        a = accuracy_score(y_test, dt_p)\n",
    "        depth_scores.append(a)\n",
    "    return depth_scores"
   ]
  },
  {
   "cell_type": "markdown",
   "metadata": {},
   "source": [
    "## Dataset\n",
    "\n",
    "The dataset chosen for this project is the refined Banknote Authenticity Dataset provided by UCI. On the source of this dataset, authors defined the dataset as: \"Data were extracted from images that were taken from genuine and forged banknote-like specimens. For digitization, an industrial camera usually used for print inspection was used. The final images have 400x 400 pixels. Due to the object lens and distance to the investigated object gray-scale pictures with a resolution of about 660 dpi were gained. Wavelet Transform tool were used to extract features from images. Data derived from UCI datasets\""
   ]
  },
  {
   "cell_type": "code",
   "execution_count": 6,
   "metadata": {},
   "outputs": [
    {
     "data": {
      "text/html": [
       "<div>\n",
       "<style scoped>\n",
       "    .dataframe tbody tr th:only-of-type {\n",
       "        vertical-align: middle;\n",
       "    }\n",
       "\n",
       "    .dataframe tbody tr th {\n",
       "        vertical-align: top;\n",
       "    }\n",
       "\n",
       "    .dataframe thead th {\n",
       "        text-align: right;\n",
       "    }\n",
       "</style>\n",
       "<table border=\"1\" class=\"dataframe\">\n",
       "  <thead>\n",
       "    <tr style=\"text-align: right;\">\n",
       "      <th></th>\n",
       "      <th>variance</th>\n",
       "      <th>skewness</th>\n",
       "      <th>curtosis</th>\n",
       "      <th>entropy</th>\n",
       "      <th>class</th>\n",
       "    </tr>\n",
       "  </thead>\n",
       "  <tbody>\n",
       "    <tr>\n",
       "      <th>0</th>\n",
       "      <td>3.62160</td>\n",
       "      <td>8.6661</td>\n",
       "      <td>-2.8073</td>\n",
       "      <td>-0.44699</td>\n",
       "      <td>0</td>\n",
       "    </tr>\n",
       "    <tr>\n",
       "      <th>1</th>\n",
       "      <td>4.54590</td>\n",
       "      <td>8.1674</td>\n",
       "      <td>-2.4586</td>\n",
       "      <td>-1.46210</td>\n",
       "      <td>0</td>\n",
       "    </tr>\n",
       "    <tr>\n",
       "      <th>2</th>\n",
       "      <td>3.86600</td>\n",
       "      <td>-2.6383</td>\n",
       "      <td>1.9242</td>\n",
       "      <td>0.10645</td>\n",
       "      <td>0</td>\n",
       "    </tr>\n",
       "    <tr>\n",
       "      <th>3</th>\n",
       "      <td>3.45660</td>\n",
       "      <td>9.5228</td>\n",
       "      <td>-4.0112</td>\n",
       "      <td>-3.59440</td>\n",
       "      <td>0</td>\n",
       "    </tr>\n",
       "    <tr>\n",
       "      <th>4</th>\n",
       "      <td>0.32924</td>\n",
       "      <td>-4.4552</td>\n",
       "      <td>4.5718</td>\n",
       "      <td>-0.98880</td>\n",
       "      <td>0</td>\n",
       "    </tr>\n",
       "  </tbody>\n",
       "</table>\n",
       "</div>"
      ],
      "text/plain": [
       "   variance  skewness  curtosis  entropy  class\n",
       "0   3.62160    8.6661   -2.8073 -0.44699      0\n",
       "1   4.54590    8.1674   -2.4586 -1.46210      0\n",
       "2   3.86600   -2.6383    1.9242  0.10645      0\n",
       "3   3.45660    9.5228   -4.0112 -3.59440      0\n",
       "4   0.32924   -4.4552    4.5718 -0.98880      0"
      ]
     },
     "execution_count": 6,
     "metadata": {},
     "output_type": "execute_result"
    }
   ],
   "source": [
    "# https://www.kaggle.com/datasets/vivekgediya/banknote-authenticationcsv\n",
    "df = pd.read_csv('data/banknote.csv')\n",
    "df.head()"
   ]
  },
  {
   "cell_type": "markdown",
   "metadata": {},
   "source": [
    "One of the most important aspects of this dataset is that all features are continuous. When the correlation heatmap is plotted, it can be seen if the features are correlated with each other. Below Heatmap shows the correlation heatmap of the banknote dataset's attributes. As can be seen from the Heatmap below, features of this dataset is not independent from each other."
   ]
  },
  {
   "cell_type": "code",
   "execution_count": 7,
   "metadata": {},
   "outputs": [
    {
     "data": {
      "text/plain": [
       "<matplotlib.axes._subplots.AxesSubplot at 0x1b0714dafd0>"
      ]
     },
     "execution_count": 7,
     "metadata": {},
     "output_type": "execute_result"
    },
    {
     "data": {
      "image/png": "[encoded data removed]",
      "text/plain": [
       "<Figure size 432x288 with 2 Axes>"
      ]
     },
     "metadata": {
      "needs_background": "light"
     },
     "output_type": "display_data"
    }
   ],
   "source": [
    "correlations = df.drop(columns=['class']).corr()\n",
    "sns.heatmap(correlations,cmap='summer')"
   ]
  },
  {
   "cell_type": "markdown",
   "metadata": {},
   "source": [
    "Target feature in the banknote dataset is defined as \"class\". It is a binary classification that value 0 responds to \"fake\" classification and value 1 responds to \"real\". Number of these classes can provide some insight about the dataset. There are 1372 datapoints in the dataset and 762 of these points are labeled as \"fake\" while remaining 610 points are labeled as \"real\". This distribution between classes are balanced, and balance in the outputs of the dataset makes classification problem easier to solve."
   ]
  },
  {
   "cell_type": "code",
   "execution_count": 8,
   "metadata": {},
   "outputs": [
    {
     "name": "stdout",
     "output_type": "stream",
     "text": [
      "0    762\n",
      "1    610\n",
      "Name: class, dtype: int64\n"
     ]
    },
    {
     "data": {
      "image/png": "[encoded data removed]",
      "text/plain": [
       "<Figure size 576x504 with 1 Axes>"
      ]
     },
     "metadata": {
      "needs_background": "light"
     },
     "output_type": "display_data"
    }
   ],
   "source": [
    "print(df['class'].value_counts())\n",
    "count = df['class'].value_counts()\n",
    "plt.figure(figsize=(8,7))\n",
    "sns.barplot(count.index, count.values)\n",
    "plt.ylabel('Count', fontsize=12)\n",
    "plt.xlabel('Class', fontsize=12)\n",
    "plt.title('Fake / Real')\n",
    "plt.show()"
   ]
  },
  {
   "cell_type": "markdown",
   "metadata": {},
   "source": [
    "All the labels are encoded. The data is splitted into training and test sets with percentages of 70 and 30 respectively."
   ]
  },
  {
   "cell_type": "code",
   "execution_count": 9,
   "metadata": {},
   "outputs": [],
   "source": [
    "labelencoder=LabelEncoder()\n",
    "for column in df.columns:\n",
    "    df[column] = labelencoder.fit_transform(df[column])\n",
    "X = df.drop(['class'], axis=1)\n",
    "y = df['class']\n",
    "X_train, X_test, y_train, y_test = train_test_split(X, y, random_state=42, test_size=0.3)"
   ]
  },
  {
   "cell_type": "markdown",
   "metadata": {},
   "source": [
    "# Experiment\n",
    "\n",
    "This section provides detailed information about the experimental process. First step of this process is to get the banknote dataset ready for the experiment. There is not much pre-processing needed for this dataset since this is a refined version of UCI banknote authenticity dataset. This means the empty values, wrong values etc. are cleared out of the dataset. There are still some actions needed to be done with the dataset like encoding the labels, separating the output values from features and splitting the dataset into train and test sets. After applying all these adjustments, the dataset is ready to be worked on."
   ]
  },
  {
   "cell_type": "code",
   "execution_count": 10,
   "metadata": {},
   "outputs": [],
   "source": [
    "dt = DecisionTree()\n",
    "dt.fit(X_train, y_train)\n",
    "\n",
    "nb = NaiveBayes()\n",
    "nb.fit(X_train, y_train)\n",
    "\n",
    "dt_p = dt.predict(X_test)\n",
    "nb_p = nb.predict(X_test)"
   ]
  },
  {
   "cell_type": "markdown",
   "metadata": {},
   "source": [
    "At this point, the classification methods are ready to train on the dataset. The Decision Tree and Naive Bates model are trained on the training dataset. This training dataset contains \\%70 of the complete dataset, the remanining \\%30 is the test dataset. After this training, the classification models are ready to make prediction on unseen data. This unseen data is the test dataset. When the models make predictions on new and unseen data, the predictions can be compared to the real values of the data and the accucacy of the prediction can be interpreted as the accuracy of the model. To calculate the accuracy model, a helper function called classification_report from sklearn library is implemented. This function compares the predicted values and real values and returns accuracy scores with different measurement techniques such as precision, recall and f1-score."
   ]
  },
  {
   "cell_type": "code",
   "execution_count": 11,
   "metadata": {},
   "outputs": [
    {
     "name": "stdout",
     "output_type": "stream",
     "text": [
      "Decision Tree Classifier report: \n",
      "\n",
      "               precision    recall  f1-score   support\n",
      "\n",
      "           0       0.91      0.96      0.93       229\n",
      "           1       0.94      0.89      0.91       183\n",
      "\n",
      "   micro avg       0.92      0.92      0.92       412\n",
      "   macro avg       0.93      0.92      0.92       412\n",
      "weighted avg       0.93      0.92      0.92       412\n",
      "\n",
      "Naive Bayes Classifier report: \n",
      "\n",
      "               precision    recall  f1-score   support\n",
      "\n",
      "           0       0.86      0.92      0.89       229\n",
      "           1       0.89      0.81      0.85       183\n",
      "\n",
      "   micro avg       0.87      0.87      0.87       412\n",
      "   macro avg       0.87      0.87      0.87       412\n",
      "weighted avg       0.87      0.87      0.87       412\n",
      "\n"
     ]
    }
   ],
   "source": [
    "print(\"Decision Tree Classifier report: \\n\\n\", classification_report(y_test, dt_p))\n",
    "print(\"Naive Bayes Classifier report: \\n\\n\", classification_report(y_test, nb_p))"
   ]
  },
  {
   "cell_type": "markdown",
   "metadata": {},
   "source": [
    "Decision Tree and Naive Bayes models are trained and tested, and the weighted average f1-score accuracy score for these classifications are %92 and %87 respectively. Figure 2 shows the complete output of the classification report. According to these accuracy scores, both Decision Tree and Gaussian Naive Bayes classification models can be utilized to classify this dataset with high accuracies, however; the Decision Tree model scores %92 accuracy and shows that it could be a better choice to solve this specific problem.\n",
    "As mentioned before, Naive Bayes method favors the discrete data, however, all attributes in the banknote dataset (variance, skewness, curtosis, entropy) are continuous valued attributes. This is the reason why Decision Tree has a higher accuracy scores and why Decision Tree model could be a better choice than Naive Bayes model for the banknote dataset.\n",
    "\n",
    "## Different Dataset Splits\n",
    "\n",
    "The accuracies of the classification models are dependent on some factors. Above, the significance of the attributes has shown. One other criteria that may effect the accuracy of the classification models is the dataset size. As a part of the experiment, the training and test splits are varied and both classification methods are repeatedly trained and tested with these different dataset splits. Below figure shows the accuracy scores for Decision Tree model (blue) and Naive Bayes model (red). As expected; both models have increasing accuracy with the increasing data size. Nevertheless this accuracy change occurs only in %0.07 range. Both models have reasonable accuracies on all training-test splits. Below figure shows also that Decision Tree performed better than Naive Bayes on all different dataset splits."
   ]
  },
  {
   "cell_type": "code",
   "execution_count": 12,
   "metadata": {},
   "outputs": [
    {
     "data": {
      "image/png": "[encoded data removed]",
      "text/plain": [
       "<Figure size 360x360 with 1 Axes>"
      ]
     },
     "metadata": {
      "needs_background": "light"
     },
     "output_type": "display_data"
    }
   ],
   "source": [
    "nb_scores, dt_scores = split_accuracies(50, 100, 5, X, y)\n",
    "plt.figure(figsize =(5, 5)) \n",
    "plt.plot([i for i in range(50, 100,5)], nb_scores, marker='*', color = 'red', label='NB')\n",
    "plt.plot([i for i in range(50, 100,5)], dt_scores, marker='*', color = 'blue', label='DT')\n",
    "plt.legend(bbox_to_anchor=(1.05, 1), loc='upper left', borderaxespad=0.)\n",
    "plt.xlabel('Training Size')\n",
    "plt.xticks(np.arange(50,100,5))\n",
    "plt.ylabel('Accuracy Scores')\n",
    "plt.title('Naive Bayes vs. Decision Tree scores for different data splits')\n",
    "plt.show()"
   ]
  },
  {
   "cell_type": "markdown",
   "metadata": {},
   "source": [
    "## Maximum Depth of the Decision Tree\n",
    "\n",
    "As a final step of this experiment, the Decision Tree model is trained on the same banknote dataset with different maximum depth value. Maximum depth of a tree is a rule to build a Decision Tree with a certain height to prevent overfitting. But deciding the height of the tree depends on the nature of the dataset. On this step, the Decision Tree model trained on the dataset with varied maximum depth values and the accuracy scores for each model are compared to decide the best maximum depth value decision. Below figure shows the accuracy scores for Decision Tree model with different maximum depth values, as shown on the figure, the first 5 levels of depth has a high impact on the models the accuracy, however, after the 5th level, the accuracy of the model doesn't show significant increase, although the accuracy scores reach as high as %98 on training."
   ]
  },
  {
   "cell_type": "code",
   "execution_count": 13,
   "metadata": {},
   "outputs": [
    {
     "data": {
      "image/png": "[encoded data removed]",
      "text/plain": [
       "<Figure size 360x360 with 1 Axes>"
      ]
     },
     "metadata": {
      "needs_background": "light"
     },
     "output_type": "display_data"
    }
   ],
   "source": [
    "depth_scores = depth_accuracies(X, y)\n",
    "plt.figure(figsize =(5, 5)) \n",
    "plt.plot([i for i in range(1,11)], depth_scores, marker='*', color = 'red', label='Train')\n",
    "plt.legend(bbox_to_anchor=(1.05, 1), loc='upper left', borderaxespad=0.)\n",
    "plt.xlabel('Max Depths')\n",
    "plt.xticks(np.arange(1,11,1))\n",
    "plt.ylabel('Accuracy Scores')\n",
    "plt.title('Decision Tree Classifier scores for different Max Depths')\n",
    "plt.show()"
   ]
  },
  {
   "cell_type": "markdown",
   "metadata": {},
   "source": [
    "# Conclusion\n",
    "\n",
    "Decision Tree model and Naive Bayes model are implemented and utilized to solve banknote authenticity problem. First the classification models are constructed, then the dataset is pre-processed and splitted for training and testing. Both models performed reasonably good on this dataset, Decision Tree model outperformed the Naive Bayes with %6 higher accuracy. This is due to the nature of the banknote dataset; while Naive Bayes model performs better on the attributes with discrete values, all of the attributes of the banknote dataset are continuous. This problem might be overtaken by categorizing the continuous values, but this is currently out of scope for this project and might be implemented on future work."
   ]
  },
  {
   "cell_type": "code",
   "execution_count": null,
   "metadata": {},
   "outputs": [],
   "source": []
  }
 ],
 "metadata": {
  "kernelspec": {
   "display_name": "Python 3",
   "language": "python",
   "name": "python3"
  },
  "language_info": {
   "codemirror_mode": {
    "name": "ipython",
    "version": 3
   },
   "file_extension": ".py",
   "mimetype": "text/x-python",
   "name": "python",
   "nbconvert_exporter": "python",
   "pygments_lexer": "ipython3",
   "version": "3.7.3"
  }
 },
 "nbformat": 4,
 "nbformat_minor": 2
}
